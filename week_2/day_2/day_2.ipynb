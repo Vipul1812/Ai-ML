{
 "cells": [
  {
   "cell_type": "code",
   "execution_count": 1,
   "metadata": {},
   "outputs": [
    {
     "name": "stdout",
     "output_type": "stream",
     "text": [
      "Requirement already satisfied: nltk in c:\\users\\hp\\anaconda3\\lib\\site-packages (3.7)\n",
      "Requirement already satisfied: regex>=2021.8.3 in c:\\users\\hp\\anaconda3\\lib\\site-packages (from nltk) (2022.3.15)\n",
      "Requirement already satisfied: tqdm in c:\\users\\hp\\anaconda3\\lib\\site-packages (from nltk) (4.64.0)\n",
      "Requirement already satisfied: click in c:\\users\\hp\\anaconda3\\lib\\site-packages (from nltk) (8.0.4)\n",
      "Requirement already satisfied: joblib in c:\\users\\hp\\anaconda3\\lib\\site-packages (from nltk) (1.1.0)\n",
      "Requirement already satisfied: colorama in c:\\users\\hp\\anaconda3\\lib\\site-packages (from click->nltk) (0.4.4)\n"
     ]
    }
   ],
   "source": [
    "!pip install nltk"
   ]
  },
  {
   "cell_type": "code",
   "execution_count": 1,
   "metadata": {},
   "outputs": [],
   "source": [
    "from nltk.chat.util  import Chat,reflections"
   ]
  },
  {
   "cell_type": "markdown",
   "metadata": {},
   "source": [
    "## CHAT BOT MAKING\n"
   ]
  },
  {
   "cell_type": "code",
   "execution_count": 4,
   "metadata": {},
   "outputs": [],
   "source": [
    "que1=r'what is your name'\n",
    "ans1=[\n",
    "    'my name is vipul',\n",
    "    'i am chatty'\n",
    "]\n",
    "\n",
    "que2=r'what your age'\n",
    "ans2=[\n",
    "    'my age is 21',\n",
    "    'i am 17 year old'\n",
    "]\n",
    "\n",
    "qa_pair=[\n",
    "    (que1,ans1),\n",
    "    (que2,ans2),\n",
    "]\n",
    "\n",
    "chatbot=Chat(qa_pair)"
   ]
  },
  {
   "cell_type": "code",
   "execution_count": 5,
   "metadata": {},
   "outputs": [
    {
     "name": "stdout",
     "output_type": "stream",
     "text": [
      "YOU SAID: what is your name\n",
      "your ans: my name is vipul\n"
     ]
    }
   ],
   "source": [
    "quetion=input(\"enter your que:\")\n",
    "print(\"YOU SAID:\",quetion)\n",
    "\n",
    "reply=chatbot.respond(quetion)\n",
    "print(\"your ans:\",reply)"
   ]
  },
  {
   "cell_type": "markdown",
   "metadata": {},
   "source": [
    "## CHAT BOT MAKING WITH THE HELP OF REGULAR EXPRESSION"
   ]
  },
  {
   "cell_type": "code",
   "execution_count": 16,
   "metadata": {},
   "outputs": [
    {
     "name": "stdout",
     "output_type": "stream",
     "text": [
      "YOU SAID: your name\n",
      "your ans: i am chatty\n"
     ]
    }
   ],
   "source": [
    "que1=r'(.*) name'\n",
    "ans1=[\n",
    "    'my name is vipul',\n",
    "    'i am chatty'\n",
    "]\n",
    "\n",
    "que2=r'what your age'\n",
    "ans2=[\n",
    "    'my age is 21',\n",
    "    'i am 17 year old'\n",
    "]\n",
    "\n",
    "que3=r'(.*) mausaum (.*) barrish'\n",
    "ans3=[\n",
    "    'aaj mausum aachaa h',\n",
    "    'aaj mausum karab h ',\n",
    "    'aaj toh barrish hogi'\n",
    "]\n",
    "\n",
    "qa_pair=[\n",
    "    (que1,ans1),\n",
    "    (que2,ans2),\n",
    "    (que3,ans3)\n",
    "]\n",
    "\n",
    "chatbot=Chat(qa_pair)\n",
    "\n",
    "quetion=input(\"enter your que:\")\n",
    "print(\"YOU SAID:\",quetion)\n",
    "\n",
    "reply=chatbot.respond(quetion)\n",
    "print(\"your ans:\",reply)"
   ]
  },
  {
   "cell_type": "code",
   "execution_count": 19,
   "metadata": {},
   "outputs": [
    {
     "name": "stdout",
     "output_type": "stream",
     "text": [
      "Speak\n",
      "you said that: name\n",
      "\n",
      "A: None\n",
      "error can only concatenate str (not \"NoneType\") to str\n",
      "\n"
     ]
    }
   ],
   "source": [
    "import speech_recognition as sr\n",
    "import pyttsx3\n",
    "import nltk\n",
    "\n",
    "\n",
    "spk=pyttsx3.init()\n",
    "spk.setProperty('rate',130)\n",
    "spk.setProperty('volume',1.0)\n",
    "\n",
    "from nltk.chat.util import  Chat,reflections\n",
    "\n",
    "chatbot=Chat(qa_pair)\n",
    "rec=sr.Recognizer()\n",
    "\n",
    "with sr.Microphone() as mic:\n",
    "    print(\"Speak\")\n",
    "    spk.say(\"speak\")\n",
    "    spk.runAndWait()\n",
    "    audio=rec.listen(mic)\n",
    "\n",
    "try:\n",
    "        text=rec.recognize_google(audio)\n",
    "        print(\"you said that:\",text,end=\"\\n\\n\")\n",
    "        spk.say(\"you said\"+text)\n",
    "        spk.runAndWait()\n",
    "\n",
    "        reply=chatbot.respond(text)\n",
    "        print(\"A:\",reply)\n",
    "        spk.say(\"your answer\"+reply)\n",
    "        spk.runAndWait()\n",
    "\n",
    "\n",
    "except Exception as err:\n",
    "      print(\"error\",err,end=\"\\n\\n\")\n",
    "\n",
    "\n"
   ]
  },
  {
   "cell_type": "code",
   "execution_count": null,
   "metadata": {},
   "outputs": [],
   "source": []
  },
  {
   "cell_type": "code",
   "execution_count": null,
   "metadata": {},
   "outputs": [],
   "source": []
  },
  {
   "cell_type": "code",
   "execution_count": null,
   "metadata": {},
   "outputs": [],
   "source": []
  }
 ],
 "metadata": {
  "kernelspec": {
   "display_name": "base",
   "language": "python",
   "name": "python3"
  },
  "language_info": {
   "codemirror_mode": {
    "name": "ipython",
    "version": 3
   },
   "file_extension": ".py",
   "mimetype": "text/x-python",
   "name": "python",
   "nbconvert_exporter": "python",
   "pygments_lexer": "ipython3",
   "version": "3.9.12"
  },
  "orig_nbformat": 4
 },
 "nbformat": 4,
 "nbformat_minor": 2
}
