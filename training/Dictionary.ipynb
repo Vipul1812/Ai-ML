{
 "cells": [
  {
   "attachments": {},
   "cell_type": "markdown",
   "metadata": {},
   "source": [
    "## DICTIONARY"
   ]
  },
  {
   "cell_type": "code",
   "execution_count": 4,
   "metadata": {},
   "outputs": [
    {
     "data": {
      "text/plain": [
       "'vipul'"
      ]
     },
     "execution_count": 4,
     "metadata": {},
     "output_type": "execute_result"
    }
   ],
   "source": [
    "## The kind of unordered of kind pairs\n",
    "\n",
    "d={\"name\":\"vipul\", \"roll_no\": 22}\n",
    "\n",
    " #Concept  #key:value  <--- Is this dictionary\n",
    "\n",
    "d[\"name\"]           #calling value "
   ]
  },
  {
   "cell_type": "code",
   "execution_count": 16,
   "metadata": {},
   "outputs": [
    {
     "ename": "KeyError",
     "evalue": "'vipul'",
     "output_type": "error",
     "traceback": [
      "\u001b[1;31m---------------------------------------------------------------------------\u001b[0m",
      "\u001b[1;31mKeyError\u001b[0m                                  Traceback (most recent call last)",
      "\u001b[1;32md:\\AI_ML\\training\\Dictionary.ipynb Cell 3\u001b[0m in \u001b[0;36m<cell line: 19>\u001b[1;34m()\u001b[0m\n\u001b[0;32m     <a href='vscode-notebook-cell:/d%3A/AI_ML/training/Dictionary.ipynb#W3sZmlsZQ%3D%3D?line=14'>15</a>\u001b[0m d\u001b[39m.\u001b[39mvalues()\n\u001b[0;32m     <a href='vscode-notebook-cell:/d%3A/AI_ML/training/Dictionary.ipynb#W3sZmlsZQ%3D%3D?line=15'>16</a>\u001b[0m d\n\u001b[1;32m---> <a href='vscode-notebook-cell:/d%3A/AI_ML/training/Dictionary.ipynb#W3sZmlsZQ%3D%3D?line=18'>19</a>\u001b[0m d\u001b[39m.\u001b[39;49mpop(\u001b[39m\"\u001b[39;49m\u001b[39mvipul\u001b[39;49m\u001b[39m\"\u001b[39;49m)\n\u001b[0;32m     <a href='vscode-notebook-cell:/d%3A/AI_ML/training/Dictionary.ipynb#W3sZmlsZQ%3D%3D?line=19'>20</a>\u001b[0m d\n\u001b[0;32m     <a href='vscode-notebook-cell:/d%3A/AI_ML/training/Dictionary.ipynb#W3sZmlsZQ%3D%3D?line=23'>24</a>\u001b[0m d\u001b[39m.\u001b[39mitems()\n",
      "\u001b[1;31mKeyError\u001b[0m: 'vipul'"
     ]
    }
   ],
   "source": [
    "# uPdate the key value in dictionary\n",
    "d[\"name\"]=2222\n",
    "d\n",
    "\n",
    "\n",
    "#update and add the key value:\n",
    "d[\"hi\"]=22\n",
    "\n",
    "\n",
    "\n",
    "d.update({\"name\":\"V\"})\n",
    "d\n",
    "\n",
    "\n",
    "d.values()\n",
    "d\n",
    "\n",
    "\n",
    "d.pop(\"vipul\")\n",
    "d\n",
    "\n",
    "\n",
    "\n",
    "d.items()\n",
    "d"
   ]
  }
 ],
 "metadata": {
  "kernelspec": {
   "display_name": "base",
   "language": "python",
   "name": "python3"
  },
  "language_info": {
   "codemirror_mode": {
    "name": "ipython",
    "version": 3
   },
   "file_extension": ".py",
   "mimetype": "text/x-python",
   "name": "python",
   "nbconvert_exporter": "python",
   "pygments_lexer": "ipython3",
   "version": "3.9.12"
  },
  "orig_nbformat": 4
 },
 "nbformat": 4,
 "nbformat_minor": 2
}
