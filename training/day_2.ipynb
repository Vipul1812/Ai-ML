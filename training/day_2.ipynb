{
 "cells": [
  {
   "attachments": {},
   "cell_type": "markdown",
   "metadata": {},
   "source": [
    "## CHATBOT"
   ]
  },
  {
   "cell_type": "code",
   "execution_count": 1,
   "metadata": {},
   "outputs": [],
   "source": [
    "import nltk"
   ]
  },
  {
   "attachments": {},
   "cell_type": "markdown",
   "metadata": {},
   "source": [
    "~RULE BASED CHATBOT(COMMON)"
   ]
  },
  {
   "cell_type": "code",
   "execution_count": 2,
   "metadata": {},
   "outputs": [],
   "source": [
    "from nltk.chat.util import Chat ,reflections          #utility yeh h"
   ]
  },
  {
   "cell_type": "code",
   "execution_count": 14,
   "metadata": {},
   "outputs": [],
   "source": [
    "# QUESTIONS ANSWER PAIRS as qa\n",
    "\n",
    "que1= r'HOW ARE YOU'\n",
    "answers1=[\n",
    "    'all well',\n",
    "    'i am good',\n",
    "    'YOO'\n",
    "]\n",
    "\n",
    "que2=r'what are you doing'\n",
    "answers2=[\n",
    "    'i am learn ai ',\n",
    "    'i am also learn ml'\n",
    "\n",
    "]\n",
    "que3=r'what is your name'\n",
    "answers3=[\n",
    "    ' my name is vipul'\n",
    "]\n",
    "\n",
    "qa_pair = [\n",
    "    (que1, answers1),\n",
    "    (que2, answers2),\n",
    "    (que3, answers3),\n",
    "]"
   ]
  },
  {
   "cell_type": "code",
   "execution_count": 15,
   "metadata": {},
   "outputs": [],
   "source": [
    "Chatbot=Chat(qa_pair)"
   ]
  },
  {
   "cell_type": "code",
   "execution_count": 18,
   "metadata": {},
   "outputs": [
    {
     "name": "stdout",
     "output_type": "stream",
     "text": [
      "Que: what are you doing\n",
      "Ans: i am learn ai \n"
     ]
    }
   ],
   "source": [
    "question=input(\"enter the questions:\")\n",
    "print('Que:',question)\n",
    "reply=Chatbot.respond(question)\n",
    "print('Ans:',reply)"
   ]
  }
 ],
 "metadata": {
  "kernelspec": {
   "display_name": "base",
   "language": "python",
   "name": "python3"
  },
  "language_info": {
   "codemirror_mode": {
    "name": "ipython",
    "version": 3
   },
   "file_extension": ".py",
   "mimetype": "text/x-python",
   "name": "python",
   "nbconvert_exporter": "python",
   "pygments_lexer": "ipython3",
   "version": "3.9.12"
  },
  "orig_nbformat": 4
 },
 "nbformat": 4,
 "nbformat_minor": 2
}
